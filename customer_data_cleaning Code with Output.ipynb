{
 "cells": [
  {
   "cell_type": "markdown",
   "id": "1809ee1e",
   "metadata": {},
   "source": [
    "# Data Cleaning Task - Customer Dataset\n",
    "\n",
    "This notebook shows the full step-by-step cleaning process for the raw dataset (`raw_customer_data.csv`).\n",
    "We identify issues (missing values, duplicates, inconsistent formats) and clean them to produce `cleaned_customer_data.csv`."
   ]
  },
  {
   "cell_type": "code",
   "execution_count": 2,
   "id": "531d643b",
   "metadata": {},
   "outputs": [
    {
     "name": "stdout",
     "output_type": "stream",
     "text": [
      "Raw dataset shape: (10, 7)\n"
     ]
    },
    {
     "data": {
      "text/html": [
       "<div>\n",
       "<style scoped>\n",
       "    .dataframe tbody tr th:only-of-type {\n",
       "        vertical-align: middle;\n",
       "    }\n",
       "\n",
       "    .dataframe tbody tr th {\n",
       "        vertical-align: top;\n",
       "    }\n",
       "\n",
       "    .dataframe thead th {\n",
       "        text-align: right;\n",
       "    }\n",
       "</style>\n",
       "<table border=\"1\" class=\"dataframe\">\n",
       "  <thead>\n",
       "    <tr style=\"text-align: right;\">\n",
       "      <th></th>\n",
       "      <th>Customer ID</th>\n",
       "      <th>Name</th>\n",
       "      <th>Gender</th>\n",
       "      <th>Country</th>\n",
       "      <th>Date Joined</th>\n",
       "      <th>Age</th>\n",
       "      <th>Email</th>\n",
       "    </tr>\n",
       "  </thead>\n",
       "  <tbody>\n",
       "    <tr>\n",
       "      <th>0</th>\n",
       "      <td>1</td>\n",
       "      <td>Alice</td>\n",
       "      <td>F</td>\n",
       "      <td>USA</td>\n",
       "      <td>2021-01-10</td>\n",
       "      <td>25.0</td>\n",
       "      <td>alice@example.com</td>\n",
       "    </tr>\n",
       "    <tr>\n",
       "      <th>1</th>\n",
       "      <td>2</td>\n",
       "      <td>Bob</td>\n",
       "      <td>M</td>\n",
       "      <td>USA</td>\n",
       "      <td>2021-03-15</td>\n",
       "      <td>30.0</td>\n",
       "      <td>bob@example.com</td>\n",
       "    </tr>\n",
       "    <tr>\n",
       "      <th>2</th>\n",
       "      <td>2</td>\n",
       "      <td>Bob</td>\n",
       "      <td>M</td>\n",
       "      <td>USA</td>\n",
       "      <td>2021-03-15</td>\n",
       "      <td>30.0</td>\n",
       "      <td>bob@example.com</td>\n",
       "    </tr>\n",
       "    <tr>\n",
       "      <th>3</th>\n",
       "      <td>4</td>\n",
       "      <td>Charlie</td>\n",
       "      <td>M</td>\n",
       "      <td>UK</td>\n",
       "      <td>15-04-2021</td>\n",
       "      <td>28.0</td>\n",
       "      <td>charlie@example.com</td>\n",
       "    </tr>\n",
       "    <tr>\n",
       "      <th>4</th>\n",
       "      <td>5</td>\n",
       "      <td>David</td>\n",
       "      <td>Male</td>\n",
       "      <td>UK</td>\n",
       "      <td>2021/05/20</td>\n",
       "      <td>NaN</td>\n",
       "      <td>david@example.com</td>\n",
       "    </tr>\n",
       "  </tbody>\n",
       "</table>\n",
       "</div>"
      ],
      "text/plain": [
       "   Customer ID     Name Gender Country Date Joined   Age                Email\n",
       "0            1    Alice      F     USA  2021-01-10  25.0    alice@example.com\n",
       "1            2      Bob      M     USA  2021-03-15  30.0      bob@example.com\n",
       "2            2      Bob      M     USA  2021-03-15  30.0      bob@example.com\n",
       "3            4  Charlie      M      UK  15-04-2021  28.0  charlie@example.com\n",
       "4            5    David   Male      UK  2021/05/20   NaN    david@example.com"
      ]
     },
     "execution_count": 2,
     "metadata": {},
     "output_type": "execute_result"
    }
   ],
   "source": [
    "import pandas as pd\n",
    "import numpy as np\n",
    "\n",
    "# Load raw dataset\n",
    "raw_df = pd.read_csv('raw_customer_data.csv')\n",
    "print('Raw dataset shape:', raw_df.shape)\n",
    "raw_df.head()"
   ]
  },
  {
   "cell_type": "markdown",
   "id": "b29bf696",
   "metadata": {},
   "source": [
    "## Step 1: Inspect dataset info"
   ]
  },
  {
   "cell_type": "code",
   "execution_count": 4,
   "id": "b19d8829",
   "metadata": {},
   "outputs": [
    {
     "name": "stdout",
     "output_type": "stream",
     "text": [
      "<class 'pandas.core.frame.DataFrame'>\n",
      "RangeIndex: 10 entries, 0 to 9\n",
      "Data columns (total 7 columns):\n",
      " #   Column       Non-Null Count  Dtype  \n",
      "---  ------       --------------  -----  \n",
      " 0   Customer ID  10 non-null     int64  \n",
      " 1   Name         9 non-null      object \n",
      " 2   Gender       9 non-null      object \n",
      " 3   Country      9 non-null      object \n",
      " 4   Date Joined  9 non-null      object \n",
      " 5   Age          9 non-null      float64\n",
      " 6   Email        9 non-null      object \n",
      "dtypes: float64(1), int64(1), object(5)\n",
      "memory usage: 692.0+ bytes\n"
     ]
    },
    {
     "data": {
      "text/plain": [
       "Customer ID    0\n",
       "Name           1\n",
       "Gender         1\n",
       "Country        1\n",
       "Date Joined    1\n",
       "Age            1\n",
       "Email          1\n",
       "dtype: int64"
      ]
     },
     "execution_count": 4,
     "metadata": {},
     "output_type": "execute_result"
    }
   ],
   "source": [
    "raw_df.info()\n",
    "raw_df.isnull().sum()"
   ]
  },
  {
   "cell_type": "markdown",
   "id": "aa5cfa54",
   "metadata": {},
   "source": [
    "## Step 2: Remove duplicate rows"
   ]
  },
  {
   "cell_type": "code",
   "execution_count": 6,
   "id": "2f60583f",
   "metadata": {},
   "outputs": [
    {
     "name": "stdout",
     "output_type": "stream",
     "text": [
      "Removed 1 duplicate rows.\n"
     ]
    }
   ],
   "source": [
    "before = raw_df.shape[0]\n",
    "raw_df = raw_df.drop_duplicates()\n",
    "after = raw_df.shape[0]\n",
    "print(f'Removed {before-after} duplicate rows.')"
   ]
  },
  {
   "cell_type": "markdown",
   "id": "b56e39af",
   "metadata": {},
   "source": [
    "## Step 3: Handle missing values\n",
    "- Fill numeric columns with median\n",
    "- Fill categorical columns with 'unknown'"
   ]
  },
  {
   "cell_type": "code",
   "execution_count": 8,
   "id": "970b94bf",
   "metadata": {},
   "outputs": [
    {
     "data": {
      "text/plain": [
       "Customer ID    0\n",
       "Name           0\n",
       "Gender         0\n",
       "Country        0\n",
       "Date Joined    0\n",
       "Age            0\n",
       "Email          0\n",
       "dtype: int64"
      ]
     },
     "execution_count": 8,
     "metadata": {},
     "output_type": "execute_result"
    }
   ],
   "source": [
    "num_cols = raw_df.select_dtypes(include=['int64','float64']).columns\n",
    "cat_cols = raw_df.select_dtypes(include=['object']).columns\n",
    "\n",
    "for c in num_cols:\n",
    "    raw_df[c] = raw_df[c].fillna(raw_df[c].median())\n",
    "for c in cat_cols:\n",
    "    raw_df[c] = raw_df[c].fillna('unknown').str.strip().str.lower()\n",
    "\n",
    "raw_df.isnull().sum()"
   ]
  },
  {
   "cell_type": "markdown",
   "id": "6d21db14",
   "metadata": {},
   "source": [
    "## Step 4: Convert date columns to datetime (if present)"
   ]
  },
  {
   "cell_type": "code",
   "execution_count": 10,
   "id": "a0e0124e",
   "metadata": {},
   "outputs": [
    {
     "data": {
      "text/html": [
       "<div>\n",
       "<style scoped>\n",
       "    .dataframe tbody tr th:only-of-type {\n",
       "        vertical-align: middle;\n",
       "    }\n",
       "\n",
       "    .dataframe tbody tr th {\n",
       "        vertical-align: top;\n",
       "    }\n",
       "\n",
       "    .dataframe thead th {\n",
       "        text-align: right;\n",
       "    }\n",
       "</style>\n",
       "<table border=\"1\" class=\"dataframe\">\n",
       "  <thead>\n",
       "    <tr style=\"text-align: right;\">\n",
       "      <th></th>\n",
       "      <th>Customer ID</th>\n",
       "      <th>Name</th>\n",
       "      <th>Gender</th>\n",
       "      <th>Country</th>\n",
       "      <th>Date Joined</th>\n",
       "      <th>Age</th>\n",
       "      <th>Email</th>\n",
       "    </tr>\n",
       "  </thead>\n",
       "  <tbody>\n",
       "    <tr>\n",
       "      <th>0</th>\n",
       "      <td>1</td>\n",
       "      <td>alice</td>\n",
       "      <td>f</td>\n",
       "      <td>usa</td>\n",
       "      <td>2021-01-10</td>\n",
       "      <td>25.0</td>\n",
       "      <td>alice@example.com</td>\n",
       "    </tr>\n",
       "    <tr>\n",
       "      <th>1</th>\n",
       "      <td>2</td>\n",
       "      <td>bob</td>\n",
       "      <td>m</td>\n",
       "      <td>usa</td>\n",
       "      <td>2021-03-15</td>\n",
       "      <td>30.0</td>\n",
       "      <td>bob@example.com</td>\n",
       "    </tr>\n",
       "    <tr>\n",
       "      <th>3</th>\n",
       "      <td>4</td>\n",
       "      <td>charlie</td>\n",
       "      <td>m</td>\n",
       "      <td>uk</td>\n",
       "      <td>NaT</td>\n",
       "      <td>28.0</td>\n",
       "      <td>charlie@example.com</td>\n",
       "    </tr>\n",
       "    <tr>\n",
       "      <th>4</th>\n",
       "      <td>5</td>\n",
       "      <td>david</td>\n",
       "      <td>male</td>\n",
       "      <td>uk</td>\n",
       "      <td>NaT</td>\n",
       "      <td>28.5</td>\n",
       "      <td>david@example.com</td>\n",
       "    </tr>\n",
       "    <tr>\n",
       "      <th>5</th>\n",
       "      <td>6</td>\n",
       "      <td>unknown</td>\n",
       "      <td>f</td>\n",
       "      <td>india</td>\n",
       "      <td>2021-06-25</td>\n",
       "      <td>35.0</td>\n",
       "      <td>eve@example.com</td>\n",
       "    </tr>\n",
       "  </tbody>\n",
       "</table>\n",
       "</div>"
      ],
      "text/plain": [
       "   Customer ID     Name Gender Country Date Joined   Age                Email\n",
       "0            1    alice      f     usa  2021-01-10  25.0    alice@example.com\n",
       "1            2      bob      m     usa  2021-03-15  30.0      bob@example.com\n",
       "3            4  charlie      m      uk         NaT  28.0  charlie@example.com\n",
       "4            5    david   male      uk         NaT  28.5    david@example.com\n",
       "5            6  unknown      f   india  2021-06-25  35.0      eve@example.com"
      ]
     },
     "execution_count": 10,
     "metadata": {},
     "output_type": "execute_result"
    }
   ],
   "source": [
    "for col in raw_df.columns:\n",
    "    if 'date' in col.lower():\n",
    "        raw_df[col] = pd.to_datetime(raw_df[col], errors='coerce')\n",
    "\n",
    "raw_df.head()"
   ]
  },
  {
   "cell_type": "markdown",
   "id": "af618311",
   "metadata": {},
   "source": [
    "## Step 5: Save cleaned dataset"
   ]
  },
  {
   "cell_type": "code",
   "execution_count": 12,
   "id": "e069a67e",
   "metadata": {},
   "outputs": [
    {
     "name": "stdout",
     "output_type": "stream",
     "text": [
      "Cleaned dataset saved as cleaned_customer_data.csv\n"
     ]
    }
   ],
   "source": [
    "raw_df.to_csv('cleaned_customer_data.csv', index=False)\n",
    "print('Cleaned dataset saved as cleaned_customer_data.csv')"
   ]
  },
  {
   "cell_type": "markdown",
   "id": "979642cb",
   "metadata": {},
   "source": [
    "## Step 6: Create a summary report"
   ]
  },
  {
   "cell_type": "code",
   "execution_count": 14,
   "id": "fd15d764",
   "metadata": {},
   "outputs": [
    {
     "data": {
      "text/plain": [
       "{'final_rows': 9,\n",
       " 'final_columns': 7,\n",
       " 'missing_values': 3,\n",
       " 'duplicates': 0,\n",
       " 'numeric_columns_filled': ['Customer ID', 'Age'],\n",
       " 'categorical_columns_filled': ['Name',\n",
       "  'Gender',\n",
       "  'Country',\n",
       "  'Date Joined',\n",
       "  'Email']}"
      ]
     },
     "execution_count": 14,
     "metadata": {},
     "output_type": "execute_result"
    }
   ],
   "source": [
    "summary = {\n",
    "    'final_rows': raw_df.shape[0],\n",
    "    'final_columns': raw_df.shape[1],\n",
    "    'missing_values': int(raw_df.isnull().sum().sum()),\n",
    "    'duplicates': int(raw_df.duplicated().sum()),\n",
    "    'numeric_columns_filled': list(num_cols),\n",
    "    'categorical_columns_filled': list(cat_cols)\n",
    "}\n",
    "\n",
    "import json\n",
    "with open('cleaning_summary.json','w') as f:\n",
    "    json.dump(summary, f, indent=2)\n",
    "summary"
   ]
  }
 ],
 "metadata": {
  "kernelspec": {
   "display_name": "Python 3 (ipykernel)",
   "language": "python",
   "name": "python3"
  },
  "language_info": {
   "codemirror_mode": {
    "name": "ipython",
    "version": 3
   },
   "file_extension": ".py",
   "mimetype": "text/x-python",
   "name": "python",
   "nbconvert_exporter": "python",
   "pygments_lexer": "ipython3",
   "version": "3.12.4"
  }
 },
 "nbformat": 4,
 "nbformat_minor": 5
}
